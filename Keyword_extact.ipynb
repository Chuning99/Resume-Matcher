{
 "cells": [
  {
   "cell_type": "code",
   "execution_count": 1,
   "metadata": {},
   "outputs": [],
   "source": [
    "import json\n",
    "import os\n",
    "from typing import List\n",
    "import networkx as nx\n",
    "import nltk\n",
    "import pandas as pd\n",
    "import plotly.express as px\n",
    "import plotly.graph_objects as go\n",
    "import streamlit as st\n",
    "from annotated_text import annotated_text, parameters\n",
    "from streamlit_extras import add_vertical_space as avs\n",
    "from streamlit_extras.badges import badge\n",
    "from scripts.similarity import get_similarity_score, find_path, read_config\n",
    "from scripts.utils import get_filenames_from_dir\n",
    "from scripts import ReadPdf, JobDescriptionProcessor, ResumeProcessor, KeytermsExtraction\n",
    "import cohere\n",
    "from scripts.KeytermsExtraction import KeytermExtractor\n",
    "from scripts.similarity.get_similarity_score import get_similarity_score\n",
    "import uuid\n",
    "from langchain.embeddings import HuggingFaceEmbeddings"
   ]
  },
  {
   "cell_type": "code",
   "execution_count": 2,
   "metadata": {},
   "outputs": [],
   "source": [
    "FULL_STACK = 0"
   ]
  },
  {
   "cell_type": "code",
   "execution_count": 3,
   "metadata": {},
   "outputs": [],
   "source": [
    "import yaml\n",
    "import logging\n",
    "logging.basicConfig(\n",
    "    filename='app_similarity_score.log',\n",
    "    filemode='w',\n",
    "    level=logging.INFO,\n",
    "    format=\"%(asctime)s - %(name)s - %(levelname)s - %(message)s\"\n",
    ")\n",
    "\n",
    "logger = logging.getLogger(__name__)\n",
    "logger.setLevel(logging.DEBUG)\n",
    "\n",
    "console_handler = logging.StreamHandler()\n",
    "formatter = logging.Formatter(\n",
    "    \"%(asctime)s - %(name)s - %(levelname)s - %(message)s\")\n",
    "console_handler.setFormatter(formatter)\n",
    "console_handler.setLevel(logging.DEBUG)\n",
    "\n",
    "file_handler = logging.FileHandler(\"app_similarity_score.log\")\n",
    "file_handler.setLevel(logging.DEBUG)\n",
    "file_handler.setFormatter(formatter)\n",
    "\n",
    "logger.addHandler(file_handler)\n",
    "logger.addHandler(console_handler)\n",
    "cwd = find_path('Resume-Matcher')\n",
    "config_path = os.path.join(cwd, \"scripts\", \"similarity\")\n",
    "\n",
    "\n",
    "def read_config(filepath):\n",
    "    try:\n",
    "        with open(filepath) as f:\n",
    "            config = yaml.safe_load(f)\n",
    "        return config\n",
    "    except FileNotFoundError as e:\n",
    "        logger.error(f\"Configuration file {filepath} not found: {e}\")\n",
    "    except yaml.YAMLError as e:\n",
    "        logger.error(\n",
    "            f\"Error parsing YAML in configuration file {filepath}: {e}\", exc_info=True)\n",
    "    except Exception as e:\n",
    "        logger.error(f\"Error reading configuration file {filepath}: {e}\")\n",
    "    return None\n",
    "\n",
    "\n",
    "config = read_config(config_path + \"/config.yml\")\n",
    "PROJECT_ID = config['vertex']['api_key']\n",
    "REGION = config['vertex']['REGION']"
   ]
  },
  {
   "cell_type": "code",
   "execution_count": 4,
   "metadata": {},
   "outputs": [],
   "source": [
    "import os\n",
    "\n",
    "job_desc_directory = \"Data/JobDescription/\"\n",
    "resumes_directory = \"Data/Resumes/\"\n",
    "\n",
    "# Automatically get all job description and resume files\n",
    "job_desc_files = [file for file in os.listdir(\n",
    "    job_desc_directory) if file.endswith('.pdf')]\n",
    "resume_files = [file for file in os.listdir(\n",
    "    resumes_directory) if file.endswith('.pdf')]\n",
    "\n",
    "job_desc_file = job_desc_files[FULL_STACK]"
   ]
  },
  {
   "cell_type": "code",
   "execution_count": 5,
   "metadata": {},
   "outputs": [],
   "source": [
    "# Define paths\n",
    "# Read raw job description\n",
    "# job_desc_text = ReadPdf.read_single_pdf(\"Data/JobDescription/\" + job_desc_file)\n",
    "job_desc_text = [ReadPdf.read_single_pdf(os.path.join(\n",
    "    \"Data/JobDescription/\", job_desc_file)) for job_desc_file in job_desc_files]\n",
    "# Process job description\n",
    "job_desc_processor = JobDescriptionProcessor(job_desc_file)\n",
    "job_desc_processed = job_desc_processor._read_job_desc()\n",
    "\n",
    "job_files = [f for f in os.listdir(\n",
    "    \"Data/JobDescription/\") if os.path.isfile(os.path.join(\"Data/JobDescription/\", f))]\n",
    "\n",
    "\n",
    "job_processed = []\n",
    "for job_file in job_files:\n",
    "    job_processor = JobDescriptionProcessor(job_file)\n",
    "    job_data = job_processor._read_job_desc()\n",
    "    job_processor._write_json_file(job_data)\n",
    "    job_processed.append(job_data)"
   ]
  },
  {
   "cell_type": "markdown",
   "metadata": {},
   "source": [
    "## Check Job keywords with index from 0 to n"
   ]
  },
  {
   "cell_type": "code",
   "execution_count": 12,
   "metadata": {},
   "outputs": [
    {
     "name": "stdout",
     "output_type": "stream",
     "text": [
      "{'unique_id': 'e026c88a-ac28-4e7d-a75d-0cc25793b18c', 'job_desc_data': 'Job Description: Senior Full Stack Engineer (5+ Years of\\nExperience)\\nTech Solutions, San Francisco, CA, USA\\nAbout Us\\nTech Solutions is a leading technology company that creates innovative solutions across a variety of industries.\\nOur mission is to improve lives through advanced technology. We’re currently seeking a Senior Full Stack\\nEngineer to join our dynamic team.\\nJob Description\\nWe’re looking for a Senior Full Stack Engineer with 5+ years of experience in developing web applications.\\nThe successful candidate will have experience working with both front-end and back-end technologies, and\\nwill be capable of overseeing projects from conception to production deployment.\\nResponsibilities\\n•Developing front end website architecture.\\n•Designing user interactions on web pages.\\n•Developing back end website applications.\\n•Creating servers and databases for functionality.\\n•Ensuring cross-platform optimization for mobile phones.\\n•Seeing through a project from conception to finished product.\\n•Designing and developing APIs.\\n•Meeting both technical and consumer needs.\\n•Staying abreast of developments in web applications and programming languages.\\nRequirements\\n•Degree in Computer Science or similar field.\\n•5+ years of experience in web development.\\n•Strong organizational and project management skills.\\n•Proficiency with fundamental front end languages such as HTML, CSS, and JavaScript.\\n•Proficiency with server-side languages such as Python, Ruby, Java, PHP, and .Net.\\n•Familiarity with database technology such as MySQL, Oracle, and MongoDB.\\n1 •Excellent verbal communication skills.\\n•Good problem-solving skills.\\n•Attention to detail.\\nBenefits\\n•Competitive salary package.\\n•Health, dental, and vision insurance.\\n•Retirement savings plan.\\n•Professional development opportunities.\\n•Flexible work hours.\\nTech Solutions is an equal opportunity employer and we value diversity at our company.\\nHow to Apply\\nTo apply, please submit your resume and a brief explanation of your relevant experience to hiring@techsolutions.com .\\n2', 'clean_data': 'Job Description Senior Full Stack Engineer 5+ Years of\\nExperience\\nTech Solutions San Francisco CA USA\\nAbout Us\\nTech Solutions is a leading technology company that creates innovative solutions across a variety of industries\\nOur mission is to improve lives through advanced technology We’re currently seeking a Senior Full Stack\\nEngineer to join our dynamic team\\nJob Description\\nWe’re looking for a Senior Full Stack Engineer with 5+ years of experience in developing web applications\\nThe successful candidate will have experience working with both frontend and backend technologies and\\nwill be capable of overseeing projects from conception to production deployment\\nResponsibilities\\n•Developing front end website architecture\\n•Designing user interactions on web pages\\n•Developing back end website applications\\n•Creating servers and databases for functionality\\n•Ensuring crossplatform optimization for mobile phones\\n•Seeing through a project from conception to finished product\\n•Designing and developing APIs\\n•Meeting both technical and consumer needs\\n•Staying abreast of developments in web applications and programming languages\\nRequirements\\n•Degree in Computer Science or similar field\\n•5+ years of experience in web development\\n•Strong organizational and project management skills\\n•Proficiency with fundamental front end languages such as HTML CSS and JavaScript\\n•Proficiency with serverside languages such as Python Ruby Java PHP and Net\\n•Familiarity with database technology such as MySQL Oracle and MongoDB\\n1 •Excellent verbal communication skills\\n•Good problemsolving skills\\n•Attention to detail\\nBenefits\\n•Competitive salary package\\n•Health dental and vision insurance\\n•Retirement savings plan\\n•Professional development opportunities\\n•Flexible work hours\\nTech Solutions is an equal opportunity employer and we value diversity at our company\\nHow to Apply\\nTo apply please submit your resume and a brief explanation of your relevant experience to  \\n2', 'entities': ['San Francisco', '•5', 'Python Ruby Java PHP', 'HTML CSS', 'JavaScript', 'Tech Solutions', 'Us'], 'extracted_keywords': ['Job', 'Description', 'Senior', 'Full', 'Stack', 'Engineer', 'Years', 'Experience', 'Tech', 'Solutions', 'San', 'Francisco', 'CA', 'USA', 'Us', 'Tech', 'Solutions', 'technology', 'company', 'solutions', 'variety', 'industries', 'mission', 'lives', 'technology', 'Senior', 'Full', 'Stack', 'Engineer', 'team', 'Job', 'Description', 'Senior', 'Full', 'Stack', 'Engineer', 'years', 'experience', 'web', 'applications', 'candidate', 'experience', 'frontend', 'technologies', 'projects', 'conception', 'production', 'deployment', 'Responsibilities', 'end', 'website', 'architecture', '•Designing', 'user', 'interactions', 'web', 'pages', 'end', 'website', 'applications', 'servers', 'databases', 'functionality', 'crossplatform', 'optimization', 'phones', 'project', 'conception', 'product', '•Designing', 'APIs', 'consumer', 'needs', '•Staying', 'developments', 'web', 'applications', 'programming', 'languages', 'Requirements', 'Computer', 'Science', 'field', '•5', 'years', 'experience', 'web', 'development', '•Strong', 'project', 'management', 'skills', '•Proficiency', 'end', 'languages', 'HTML', 'CSS', 'JavaScript', '•Proficiency', 'serverside', 'languages', 'Python', 'Ruby', 'Java', 'PHP', 'Net', '•Familiarity', 'database', 'technology', 'MySQL', 'Oracle', 'MongoDB', 'communication', 'skills', '•Attention', 'Benefits', 'salary', 'package', '•Health', 'vision', 'insurance', 'savings', 'plan', 'development', 'opportunities', 'work', 'hours', 'Tech', 'Solutions', 'opportunity', 'employer', 'diversity', 'company', 'resume', 'explanation', 'experience'], 'keyterms': [('Senior Full stack', 0.36734547073779045), ('Job Description', 0.1137969836501915), ('Tech Solutions', 0.08785209480327773), ('experience', 0.0402594489684917), ('web application', 0.031091464413874694), ('technology', 0.026103226555550127), ('end website', 0.02603264785474888), ('year', 0.02280185463098348), ('Engineer', 0.015158334006474023), ('company', 0.01299126818329351), ('project', 0.008025371467830188), ('development', 0.006199971245814812), ('database', 0.005431870607290941), ('conception', 0.005159537892195308), ('language', 0.004950592066886817), ('solution', 0.004909896555990972), ('innovative', 0.004862122886957498), ('Francisco', 0.004742057116465734), ('variety', 0.004727628158636155), ('San', 0.004700569886380095)], 'bi_grams': '[Job Description, Description Senior, Stack Engineer, + Years, Tech Solutions, Solutions San, San Francisco, Tech Solutions, leading technology, technology company, creates innovative, innovative solutions, improve lives, advanced technology, currently seeking, dynamic team, Job Description, Stack Engineer, + years, developing web, web applications, successful candidate, experience working, backend technologies, overseeing projects, production deployment, end website, website architecture, •Designing user, user interactions, web pages, end website, website applications, •Creating servers, •Ensuring crossplatform, crossplatform optimization, mobile phones, finished product, developing APIs, consumer needs, •Staying abreast, web applications, programming languages, Computer Science, similar field, •5+, + years, web development, •Strong organizational, project management, management skills, end languages, HTML CSS, serverside languages, Python Ruby, Ruby Java, Java PHP, database technology, MySQL Oracle, •Excellent verbal, verbal communication, communication skills, •Good problemsolving, problemsolving skills, •Competitive salary, salary package, •Health dental, vision insurance, •Retirement savings, savings plan, •Professional development, development opportunities, •Flexible work, work hours, Tech Solutions, equal opportunity, opportunity employer, value diversity, brief explanation, relevant experience]', 'tri_grams': '[Job Description Senior, Senior Full Stack, Tech Solutions San, Solutions San Francisco, Francisco CA USA, leading technology company, company that creates, creates innovative solutions, variety of industries, lives through advanced, seeking a Senior, Senior Full Stack, Engineer to join, join our dynamic, Senior Full Stack, years of experience, experience in developing, developing web applications, frontend and backend, capable of overseeing, projects from conception, conception to production, •Developing front end, end website architecture, •Designing user interactions, interactions on web, •Developing back end, end website applications, servers and databases, databases for functionality, •Ensuring crossplatform optimization, optimization for mobile, project from conception, conception to finished, •Designing and developing, •Meeting both technical, technical and consumer, abreast of developments, developments in web, applications and programming, •Degree in Computer, Science or similar, •5+ years, years of experience, experience in web, organizational and project, project management skills, •Proficiency with fundamental, fundamental front end, CSS and JavaScript, •Proficiency with serverside, Python Ruby Java, Ruby Java PHP, PHP and Net, •Familiarity with database, Oracle and MongoDB, •Excellent verbal communication, verbal communication skills, •Good problemsolving skills, •Attention to detail, •Competitive salary package, dental and vision, •Retirement savings plan, •Professional development opportunities, •Flexible work hours, equal opportunity employer, apply please submit, submit your resume]', 'pos_frequencies': {'PROPN': 38, 'NUM': 5, 'SYM': 2, 'NOUN': 99, 'ADP': 33, 'SPACE': 40, 'AUX': 8, 'DET': 8, 'VERB': 25, 'PRON': 9, 'ADJ': 28, 'PART': 5, 'ADV': 1, 'CCONJ': 16, 'INTJ': 2, 'SCONJ': 1}}\n"
     ]
    }
   ],
   "source": [
    "print(job_processed[FULL_STACK])"
   ]
  },
  {
   "cell_type": "code",
   "execution_count": 6,
   "metadata": {},
   "outputs": [],
   "source": [
    "\n",
    "resumes_text = [ReadPdf.read_single_pdf(os.path.join(\n",
    "    \"Data/Resumes/\", resume_file)) for resume_file in resume_files]\n",
    "\n",
    "\n",
    "# Process resumes\n",
    "resume_files = [f for f in os.listdir(\n",
    "    \"Data/Resumes/\") if os.path.isfile(os.path.join(\"Data/Resumes/\", f))]\n",
    "\n",
    "resumes_processed = []\n",
    "for resume_file in resume_files:\n",
    "    resume_processor = ResumeProcessor(resume_file)\n",
    "    resume_data = resume_processor._read_resumes()\n",
    "    resume_processor._write_json_file(resume_data)\n",
    "    resumes_processed.append(resume_data)"
   ]
  },
  {
   "cell_type": "code",
   "execution_count": 16,
   "metadata": {},
   "outputs": [],
   "source": [
    "def extract_candidate_name_from_filename(filename: str) -> str:\n",
    "    # Exclude the last part which is the position\n",
    "    name_parts = filename.split('_')[:-1]\n",
    "    return ' '.join(name_parts).title()"
   ]
  },
  {
   "cell_type": "code",
   "execution_count": 17,
   "metadata": {},
   "outputs": [
    {
     "data": {
      "text/plain": [
       "['Yiching Liu',\n",
       " 'Angela Zhu',\n",
       " 'Maria Chinkan',\n",
       " 'Arpi Melik Parsadanyan',\n",
       " 'Zihui Lin',\n",
       " 'Jose Felix Villasenor',\n",
       " 'Anna Gasparyan',\n",
       " 'Amitesh Rathore',\n",
       " 'Yunrui Shao',\n",
       " 'Jaykumar',\n",
       " 'Minyue Yao',\n",
       " 'John',\n",
       " 'Zane Rouguine',\n",
       " 'Brandon Penner',\n",
       " 'Zhe Wang',\n",
       " 'Tsubasa Lin',\n",
       " 'Danny Mai',\n",
       " 'David Boutwell',\n",
       " 'Alexandra',\n",
       " 'Sarah Sherman',\n",
       " 'David Botbol',\n",
       " 'Ryan Pintar',\n",
       " 'Eloise Yu',\n",
       " 'Vasil Klimovich',\n",
       " 'Ming Jin',\n",
       " 'Robert Scozzari',\n",
       " 'Cody Romero',\n",
       " 'Carnell Brame',\n",
       " 'Timothy Wang',\n",
       " 'Nico Santoso',\n",
       " 'Shirley Zhao',\n",
       " 'Yuan Wang',\n",
       " 'Divya Harshini',\n",
       " 'Deekshitha Pullaiah',\n",
       " 'Meredith Cheng',\n",
       " 'Grace Li',\n",
       " 'Anya Hsu',\n",
       " 'Nandini Seth',\n",
       " 'Andrew Knuppel',\n",
       " 'John Hinnegan',\n",
       " 'Sharad Dangol',\n",
       " 'Salvador Campos',\n",
       " 'Lauren Aubrey Lee',\n",
       " 'Xiao Li',\n",
       " 'Bruce Wayne',\n",
       " 'Barry Allen',\n",
       " 'Balraj Rai',\n",
       " 'Annie Zhou',\n",
       " 'Federico De Marines',\n",
       " 'Ray Lee',\n",
       " 'Jagriti Sharma',\n",
       " 'Michelle Wang',\n",
       " 'Galen Fink',\n",
       " 'Dennis Mo',\n",
       " 'Mengyao Zhang',\n",
       " 'Johann C',\n",
       " 'Yixin-Ying',\n",
       " 'Peggy Lai',\n",
       " 'Yuanhuang Lo',\n",
       " 'Serleen Lee',\n",
       " 'Maria Gonzalez',\n",
       " 'Natalie Le',\n",
       " 'Yuying Ma',\n",
       " 'Aramis Nia',\n",
       " 'Diego Arcadia',\n",
       " 'Alexander Gasca',\n",
       " 'Rulin Xing',\n",
       " 'Xiaoda Li',\n",
       " 'Haley Carruthers',\n",
       " 'Yunjae Kim',\n",
       " 'Nuocheng Peng',\n",
       " 'Yihao Xu',\n",
       " 'Mckenna Bass',\n",
       " 'John Zhou',\n",
       " 'Steven Meneses',\n",
       " 'Harvey Dent',\n",
       " 'Arif Demirkan',\n",
       " 'Austin Zuo',\n",
       " 'Jiayu Yi',\n",
       " 'Lisa Udechukwu',\n",
       " 'Dennis Tou',\n",
       " 'Adrian Velasco',\n",
       " 'Hanfei He',\n",
       " 'Sheen Huang',\n",
       " 'Xinyi Yu',\n",
       " 'Alfred Pennyworth',\n",
       " 'Chenjie Wu',\n",
       " 'Yaxing Li',\n",
       " 'Jeffrey Chen',\n",
       " 'Yiwen Ding',\n",
       " 'Steven Chen',\n",
       " 'Charles Zhang',\n",
       " 'Polina Popova']"
      ]
     },
     "execution_count": 17,
     "metadata": {},
     "output_type": "execute_result"
    }
   ],
   "source": [
    "candidate_names = [extract_candidate_name_from_filename(\n",
    "    resume_file) for resume_file in resume_files]\n",
    "candidate_names"
   ]
  },
  {
   "cell_type": "code",
   "execution_count": 18,
   "metadata": {},
   "outputs": [],
   "source": [
    "\n",
    "for i in range(len(resumes_processed)):\n",
    "    resumes_processed[i]['name'] = candidate_names[i]"
   ]
  },
  {
   "cell_type": "markdown",
   "metadata": {},
   "source": [
    "## Check candidate keywords with index from 0 to n\n"
   ]
  },
  {
   "cell_type": "code",
   "execution_count": 20,
   "metadata": {},
   "outputs": [
    {
     "name": "stdout",
     "output_type": "stream",
     "text": [
      "{'unique_id': '12d1e8aa-d41c-482f-b8e5-6a34a1b29ed1', 'resume_data': '\\xa0 \\xa0\\n聯絡\\nwww.linkedin.com/in/yi-ching-liu-\\na73276216  (LinkedIn)\\n熱門技能\\nInterviewing\\nUIUX\\nUX ResearchYI CHING LIU\\nUXUI\\n台灣\\n經歷\\nTaelor\\nUIUX\\n2023 年 9 月\\xa0-\\xa0Present\\xa0 (2 個月)\\nSan Francisco Bay Area\\nJubo Health\\nUX Designer\\n2023 年 3 月\\xa0-\\xa02023 年 9 月\\xa0 (7 個月)\\n台灣\\n研究並產出數位醫療digital frontdoor 潛在用戶輪廓，以加值服務，提供使用者\\n更喜愛的體驗內容。\\n學歷\\n大同大學\\n媒體設計,\\xa0UI/UX  3D web design \\xa0·\\xa0(2020\\xa0-\\xa02023)\\n\\xa0 Page 1 of 1', 'clean_data': '\\xa0 \\xa0\\n聯絡\\n\\na73276216  LinkedIn\\n熱門技能\\nInterviewing\\nUIUX\\nUX ResearchYI CHING LIU\\nUXUI\\n台灣\\n經歷\\nTaelor\\nUIUX\\n2023 年 9 月\\xa0\\xa0Present\\xa0 2 個月\\nSan Francisco Bay Area\\nJubo Health\\nUX Designer\\n2023 年 3 月\\xa0\\xa02023 年 9 月\\xa0 7 個月\\n台灣\\n研究並產出數位醫療digital frontdoor 潛在用戶輪廓，以加值服務，提供使用者\\n更喜愛的體驗內容。\\n學歷\\n大同大學\\n媒體設計\\xa0UI/UX  3D web design \\xa0\\xa02020\\xa0\\xa02023\\n\\xa0 Page 1 of 1', 'entities': ['UIUX', '更喜愛的體驗內容', 'UI', 'LinkedIn', '潛在用戶輪廓，以加值服務，提供使用者', 'UXUI'], 'extracted_keywords': ['LinkedIn', 'Interviewing', 'UIUX', 'UX', 'ResearchYI', 'CHING', 'LIU', 'UXUI', '經歷', 'Taelor', 'UIUX', '月', 'Present', 'San', 'Francisco', 'Bay', 'Area', 'Jubo', 'Health', 'UX', 'Designer', '月', '月', '台灣', '潛在用戶輪廓，以加值服務，提供使用者', '更喜愛的體驗內容', '。', '學歷', 'UI', 'UX', '3D', 'web', 'design', 'Page'], 'keyterms': [('San Francisco Bay Area', 0.21784082428057017), ('CHING LIU', 0.07303382240142625), ('UIUX', 0.06985282932899413), ('UX designer', 0.06598772650363914), ('年', 0.05758370619118809), ('台灣', 0.05619867409935313), ('Jubo Health', 0.0547793315963795), ('研究並產出數位醫療digital frontdoor 潛在用戶輪廓，以加值服務，提供使用者', 0.05467935105224593), ('個月', 0.039311108270366504), ('3d web design', 0.033092624154328724), ('Present', 0.030681321187663382), ('Taelor', 0.030532695215502084), ('經歷', 0.030146384949510545), ('UXUI', 0.025487047951475904), ('interviewing', 0.021625356625888964), ('熱門技能', 0.019978796860759363), ('媒體設計', 0.018362643776799133), ('linkedin', 0.018334776859313978), ('更喜愛的體驗內容', 0.018166806249890817), ('大同大學', 0.017885545731561536)], 'name': 'Yiching Liu', 'experience': '', 'emails': [], 'phones': [], 'years': [], 'bi_grams': '[UX ResearchYI, ResearchYI CHING, CHING LIU, San Francisco, Francisco Bay, Bay Area, Jubo Health, UX Designer, 研究並產出數位醫療digital frontdoor, frontdoor 潛在用戶輪廓，以加值服務，提供使用者, 3D web, web design]', 'tri_grams': '[UX ResearchYI CHING, ResearchYI CHING LIU, San Francisco Bay, Francisco Bay Area, 研究並產出數位醫療digital frontdoor 潛在用戶輪廓，以加值服務，提供使用者, 3D web design]', 'pos_frequencies': {'SPACE': 32, 'NOUN': 9, 'ADJ': 2, 'PROPN': 33, 'ADP': 2, 'NUM': 12, 'X': 1, 'SYM': 2}}\n"
     ]
    }
   ],
   "source": [
    "print(resumes_processed[0])"
   ]
  }
 ],
 "metadata": {
  "kernelspec": {
   "display_name": "env",
   "language": "python",
   "name": "python3"
  },
  "language_info": {
   "codemirror_mode": {
    "name": "ipython",
    "version": 3
   },
   "file_extension": ".py",
   "mimetype": "text/x-python",
   "name": "python",
   "nbconvert_exporter": "python",
   "pygments_lexer": "ipython3",
   "version": "3.10.13"
  }
 },
 "nbformat": 4,
 "nbformat_minor": 2
}
