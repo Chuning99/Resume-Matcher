{
 "cells": [
  {
   "cell_type": "code",
   "execution_count": 109,
   "metadata": {},
   "outputs": [],
   "source": [
    "import json\n",
    "import os\n",
    "from typing import List\n",
    "import networkx as nx\n",
    "import nltk\n",
    "import pandas as pd\n",
    "import plotly.express as px\n",
    "import plotly.graph_objects as go\n",
    "import streamlit as st\n",
    "from annotated_text import annotated_text, parameters\n",
    "from streamlit_extras import add_vertical_space as avs\n",
    "from streamlit_extras.badges import badge\n",
    "from scripts.similarity import get_similarity_score, find_path, read_config\n",
    "from scripts.utils import get_filenames_from_dir\n",
    "from scripts import ReadPdf, JobDescriptionProcessor, ResumeProcessor, KeytermsExtraction\n",
    "import cohere\n",
    "from scripts.KeytermsExtraction import KeytermExtractor\n",
    "from scripts.similarity.get_similarity_score import get_similarity_score\n",
    "\n"
   ]
  },
  {
   "cell_type": "code",
   "execution_count": 110,
   "metadata": {},
   "outputs": [],
   "source": [
    "import os\n",
    "\n",
    "job_desc_directory = \"Data/JobDescription/\"\n",
    "resumes_directory = \"Data/Resumes/\"\n",
    "\n",
    "# Automatically get all job description and resume files\n",
    "job_desc_files = [file for file in os.listdir(job_desc_directory) if file.endswith('.pdf')]\n",
    "resume_files = [file for file in os.listdir(resumes_directory) if file.endswith('.pdf')]\n",
    "\n",
    "job_desc_file = job_desc_files[0]  # This will select the first job description file\n"
   ]
  },
  {
   "cell_type": "code",
   "execution_count": 111,
   "metadata": {},
   "outputs": [
    {
     "name": "stdout",
     "output_type": "stream",
     "text": [
      "Error reading file 'Data/Resumes/JOHN DOE\n",
      "123 Main St, Anywhere, USA — (123) 456-7890 — john.doe@email.com\n",
      "LinkedIn: linkedin.com/in/johndoe — GitHub: github.com/johndoe\n",
      "PROFESSIONAL SUMMARY\n",
      "Highly skilled Full Stack Developer with over 5 years of experience in Java and Angular development,\n",
      "specializing in designing, building, testing, and maintaining web applications. Proficient in an assortment\n",
      "of technologies, including Java, Spring Boot, Angular, HTML5, CSS3, and SQL. Exceptional ability to\n",
      "work in a team and self-direct. Committed to providing high-quality results with little supervision.\n",
      "SKILLS\n",
      "•Java and J2EE\n",
      "•Spring Boot, Spring MVC, and Hibernate\n",
      "•Angular (versions 2+)\n",
      "•JavaScript, TypeScript, HTML5, CSS3, and Bootstrap\n",
      "•RESTful APIs\n",
      "•SQL and NoSQL databases (MySQL, MongoDB)\n",
      "•Agile and Scrum\n",
      "•Git and GitHub\n",
      "•Junit and Mockito\n",
      "•Docker\n",
      "WORK EXPERIENCE\n",
      "Full Stack Java Developer , ABC Company, Inc., Anywhere, USA, June 2018 - Present\n",
      "•Developed scalable, robust, and maintainable enterprise-level applications using Java and Spring\n",
      "Boot\n",
      "•Used Angular for developing dynamic and responsive web front-ends, improving user experience\n",
      "by 30\n",
      "•Integrated applications with MySQL and MongoDB databases to store and retrieve data efficiently\n",
      "•Collaborated in an Agile development team to deliver high-quality software every sprint\n",
      "•Created RESTful services and APIs for frontend and third-party applications\n",
      "•Wrote unit tests using Junit and Mockito for robust testing of application components\n",
      "Software Developer , XYZ Solutions, Anywhere, USA, July 2016 - June 2018\n",
      "•Participated in the complete software development life cycle from requirement analysis to deploy-\n",
      "ment\n",
      "•Implemented business logic using Java and enhanced user interface using Angular\n",
      "•Developed and maintained SQL and NoSQL databases, implementing complex queries for business\n",
      "needs\n",
      "•Utilized Git for version control and collaborated with team members via GitHub\n",
      "•Assisted in troubleshooting, software debugging, and system enhancements\n",
      "1 EDUCATION\n",
      "Bachelor of Science in Computer Science , State University, Anywhere, USA, May 2016\n",
      "CERTIFICATIONS\n",
      "•Oracle Certified Professional, Java SE 8 Programmer\n",
      "•Certified Angular Developer\n",
      "2': [Errno 63] File name too long: 'Data/Resumes/JOHN DOE\\n123 Main St, Anywhere, USA — (123) 456-7890 — john.doe@email.com\\nLinkedIn: linkedin.com/in/johndoe — GitHub: github.com/johndoe\\nPROFESSIONAL SUMMARY\\nHighly skilled Full Stack Developer with over 5 years of experience in Java and Angular development,\\nspecializing in designing, building, testing, and maintaining web applications. Proficient in an assortment\\nof technologies, including Java, Spring Boot, Angular, HTML5, CSS3, and SQL. Exceptional ability to\\nwork in a team and self-direct. Committed to providing high-quality results with little supervision.\\nSKILLS\\n•Java and J2EE\\n•Spring Boot, Spring MVC, and Hibernate\\n•Angular (versions 2+)\\n•JavaScript, TypeScript, HTML5, CSS3, and Bootstrap\\n•RESTful APIs\\n•SQL and NoSQL databases (MySQL, MongoDB)\\n•Agile and Scrum\\n•Git and GitHub\\n•Junit and Mockito\\n•Docker\\nWORK EXPERIENCE\\nFull Stack Java Developer , ABC Company, Inc., Anywhere, USA, June 2018 - Present\\n•Developed scalable, robust, and maintainable enterprise-level applications using Java and Spring\\nBoot\\n•Used Angular for developing dynamic and responsive web front-ends, improving user experience\\nby 30\\n•Integrated applications with MySQL and MongoDB databases to store and retrieve data efficiently\\n•Collaborated in an Agile development team to deliver high-quality software every sprint\\n•Created RESTful services and APIs for frontend and third-party applications\\n•Wrote unit tests using Junit and Mockito for robust testing of application components\\nSoftware Developer , XYZ Solutions, Anywhere, USA, July 2016 - June 2018\\n•Participated in the complete software development life cycle from requirement analysis to deploy-\\nment\\n•Implemented business logic using Java and enhanced user interface using Angular\\n•Developed and maintained SQL and NoSQL databases, implementing complex queries for business\\nneeds\\n•Utilized Git for version control and collaborated with team members via GitHub\\n•Assisted in troubleshooting, software debugging, and system enhancements\\n1 EDUCATION\\nBachelor of Science in Computer Science , State University, Anywhere, USA, May 2016\\nCERTIFICATIONS\\n•Oracle Certified Professional, Java SE 8 Programmer\\n•Certified Angular Developer\\n2'\n",
      "Error reading file 'Data/Resumes/Bruce Wayne\n",
      "MERN Stack Developer123 Gotham St\n",
      "Gotham, USA\n",
      "♂¶obile-alt(123) 456-7890\n",
      "/envel⌢pebwayne@email.com\n",
      "/linkedin-inbwayne\n",
      "/githubbwayne\n",
      "Professional Summary\n",
      "Highly skilled MERN Stack Developer with over 10 years of experience, specializing in designing,\n",
      "building, and maintaining complex web applications. Proficient in MongoDB, Express.js, React, and\n",
      "Node.js. Currently contributing to the development of AI technologies at OpenAI, with a primary\n",
      "focus on the ChatGPT project.\n",
      "Skills\n",
      "JavaScript and TypeScript, MongoDB, Express.js, React, Node.js (MERN stack),\n",
      "RESTful APIs, Git and GitHub, Docker and Kubernetes, Agile and Scrum, Python\n",
      "and Machine Learning basics\n",
      "Experience\n",
      "June 2020 –\n",
      "PresentMERN Stack Developer ,OpenAI , San Francisco, USA\n",
      "Working on the development of the ChatGPT project, using Node.js, Express.js, and React.\n",
      "Implementing RESTful services for communication between frontend and backend. Utilizing\n",
      "Docker and Kubernetes for deployment and management of applications. Working in an\n",
      "Agile environment, delivering high-quality software every sprint. Contributing to the design\n",
      "and implementation of machine learning algorithms for natural language processing tasks.\n",
      "July 2015 –\n",
      "May 2020Full Stack Developer ,Uber , San Francisco, USA\n",
      "Developed and maintained scalable web applications using MERN stack. Ensured the\n",
      "performance, quality, and responsiveness of applications. Successfully deployed solutions\n",
      "using Docker and Kubernetes. Collaborated with a team of engineers, product managers,\n",
      "and UX designers. Led a team of junior developers, conducted code reviews, and ensured\n",
      "adherence to best coding practices. Worked closely with the data science team to optimize\n",
      "recommendation algorithms and enhance user experience.\n",
      "June 2012 –\n",
      "June 2015Software Developer ,Facebook , Menlo Park, USA\n",
      "Developed features for the Facebook web application using React. Ensured the performance\n",
      "of the MongoDB databases. Utilized RESTful APIs for communication between different\n",
      "parts of the application. Worked in a fast-paced, test-driven development environment.\n",
      "Assisted in migrating the legacy system to a modern MERN stack architecture.\n",
      "Education\n",
      "2009 – 2012 PhD in Computer Science ,CalTech , Pasadena, USA\n",
      "2007 – 2009 Master of Science in Computer Science ,MIT, Cambridge, USA\n",
      "2003 – 2007 Bachelor of Science in Computer Science ,UC San Diego , San Diego, USA\n",
      "1/2 Projects\n",
      "2019 –\n",
      "PresentPersonal Project: Gotham Event Planner\n",
      "Created a full-featured web application to plan and organize events in Gotham city. Used\n",
      "MERN stack for development and Docker for deployment. The application allows users to\n",
      "create, manage, and share events, and integrates with Google Maps API to display event\n",
      "locations.\n",
      "2/2': [Errno 63] File name too long: 'Data/Resumes/Bruce Wayne\\nMERN Stack Developer123 Gotham St\\nGotham, USA\\n♂¶obile-alt(123) 456-7890\\n/envel⌢pebwayne@email.com\\n/linkedin-inbwayne\\n/githubbwayne\\nProfessional Summary\\nHighly skilled MERN Stack Developer with over 10 years of experience, specializing in designing,\\nbuilding, and maintaining complex web applications. Proficient in MongoDB, Express.js, React, and\\nNode.js. Currently contributing to the development of AI technologies at OpenAI, with a primary\\nfocus on the ChatGPT project.\\nSkills\\nJavaScript and TypeScript, MongoDB, Express.js, React, Node.js (MERN stack),\\nRESTful APIs, Git and GitHub, Docker and Kubernetes, Agile and Scrum, Python\\nand Machine Learning basics\\nExperience\\nJune 2020 –\\nPresentMERN Stack Developer ,OpenAI , San Francisco, USA\\nWorking on the development of the ChatGPT project, using Node.js, Express.js, and React.\\nImplementing RESTful services for communication between frontend and backend. Utilizing\\nDocker and Kubernetes for deployment and management of applications. Working in an\\nAgile environment, delivering high-quality software every sprint. Contributing to the design\\nand implementation of machine learning algorithms for natural language processing tasks.\\nJuly 2015 –\\nMay 2020Full Stack Developer ,Uber , San Francisco, USA\\nDeveloped and maintained scalable web applications using MERN stack. Ensured the\\nperformance, quality, and responsiveness of applications. Successfully deployed solutions\\nusing Docker and Kubernetes. Collaborated with a team of engineers, product managers,\\nand UX designers. Led a team of junior developers, conducted code reviews, and ensured\\nadherence to best coding practices. Worked closely with the data science team to optimize\\nrecommendation algorithms and enhance user experience.\\nJune 2012 –\\nJune 2015Software Developer ,Facebook , Menlo Park, USA\\nDeveloped features for the Facebook web application using React. Ensured the performance\\nof the MongoDB databases. Utilized RESTful APIs for communication between different\\nparts of the application. Worked in a fast-paced, test-driven development environment.\\nAssisted in migrating the legacy system to a modern MERN stack architecture.\\nEducation\\n2009 – 2012 PhD in Computer Science ,CalTech , Pasadena, USA\\n2007 – 2009 Master of Science in Computer Science ,MIT, Cambridge, USA\\n2003 – 2007 Bachelor of Science in Computer Science ,UC San Diego , San Diego, USA\\n1/2 Projects\\n2019 –\\nPresentPersonal Project: Gotham Event Planner\\nCreated a full-featured web application to plan and organize events in Gotham city. Used\\nMERN stack for development and Docker for deployment. The application allows users to\\ncreate, manage, and share events, and integrates with Google Maps API to display event\\nlocations.\\n2/2'\n",
      "Error reading file 'Data/Resumes/Barry Allen\n",
      "Front-End DeveloperGoogle HQ, Mountain View, CA, USA\n",
      "♂¶obile-alt(123) 456-7890\n",
      "/envel⌢peallthe.stars@google.com\n",
      "/linkedin-inbwayne\n",
      "/githubbwayne\n",
      "Objective\n",
      "Seeking a challenging role as a Front-End Developer where I can leverage my knowledge of UI/UX\n",
      "design and modern web technologies to create intuitive and engaging user interfaces.\n",
      "Education\n",
      "2018 – 2022 B.Tech, Computer Science and Engineering ,Indian Institute of Technology\n",
      "Delhi , New Delhi, India\n",
      "Overall GPA: 9.5/10\n",
      "Skills\n",
      "JavaScript (ES6+), TypeScript, HTML5, CSS3, Python, React, Redux, Angular,\n",
      "Vue.js, Node.js, Express.js, D3.js, Git, Docker, Webpack, Babel, Google Cloud\n",
      "Platform, Firebase, RESTful APIs, GraphQL, Agile Development, Test-Driven\n",
      "Development, Responsive Design, UI/UX\n",
      "Experience\n",
      "June 2022 –\n",
      "PresentSoftware Engineer (Front-End) ,Google , Mountain View, CA, USA\n",
      "Developing intuitive and engaging user interfaces using React and Redux. Working closely\n",
      "with UX designers to implement responsive and accessible web design. Participating in\n",
      "agile development processes, including sprint planning and code reviews. Collaborating with\n",
      "back-end developers to integrate RESTful APIs and ensure seamless data flow.\n",
      "Projects\n",
      "2022 Personal Expense Tracker\n",
      "Developed a personal expense tracker application using React, Redux, and Firebase. Imple-\n",
      "mented user authentication using Firebase Auth and data storage using Firestore. Utilized\n",
      "D3.js for data visualization to provide users with insights into their spending patterns.': [Errno 63] File name too long: 'Data/Resumes/Barry Allen\\nFront-End DeveloperGoogle HQ, Mountain View, CA, USA\\n♂¶obile-alt(123) 456-7890\\n/envel⌢peallthe.stars@google.com\\n/linkedin-inbwayne\\n/githubbwayne\\nObjective\\nSeeking a challenging role as a Front-End Developer where I can leverage my knowledge of UI/UX\\ndesign and modern web technologies to create intuitive and engaging user interfaces.\\nEducation\\n2018 – 2022 B.Tech, Computer Science and Engineering ,Indian Institute of Technology\\nDelhi , New Delhi, India\\nOverall GPA: 9.5/10\\nSkills\\nJavaScript (ES6+), TypeScript, HTML5, CSS3, Python, React, Redux, Angular,\\nVue.js, Node.js, Express.js, D3.js, Git, Docker, Webpack, Babel, Google Cloud\\nPlatform, Firebase, RESTful APIs, GraphQL, Agile Development, Test-Driven\\nDevelopment, Responsive Design, UI/UX\\nExperience\\nJune 2022 –\\nPresentSoftware Engineer (Front-End) ,Google , Mountain View, CA, USA\\nDeveloping intuitive and engaging user interfaces using React and Redux. Working closely\\nwith UX designers to implement responsive and accessible web design. Participating in\\nagile development processes, including sprint planning and code reviews. Collaborating with\\nback-end developers to integrate RESTful APIs and ensure seamless data flow.\\nProjects\\n2022 Personal Expense Tracker\\nDeveloped a personal expense tracker application using React, Redux, and Firebase. Imple-\\nmented user authentication using Firebase Auth and data storage using Firestore. Utilized\\nD3.js for data visualization to provide users with insights into their spending patterns.'\n",
      "Error reading file 'Data/Resumes/Harvey Dent\n",
      "Machine Learning Engineer321 Gotham St\n",
      "Gotham, USA\n",
      "♂¶obile-alt(123) 456-7891\n",
      "/envel⌢pehdent@email.com\n",
      "/linkedin-inhdent\n",
      "/githubhdent\n",
      "Professional Summary\n",
      "Machine Learning Engineer with 5 years of experience in designing, building, and deploying predictive\n",
      "models and deep learning systems. Proficient in Python, TensorFlow, PyTorch, and Scikit-learn.\n",
      "Currently leading a team of AI engineers at OpenAI.\n",
      "Skills\n",
      "Python, R, TensorFlow, PyTorch, Scikit-learn, Keras, SQL, NoSQL, Git, Docker,\n",
      "Kubernetes, Agile and Scrum, Statistics, Data visualization, Deep Learning, Natural\n",
      "Language Processing\n",
      "Experience\n",
      "2021 –\n",
      "PresentMachine Learning Engineer ,OpenAI , San Francisco, USA\n",
      "Leading a team of AI engineers. Designed and implemented deep learning models for natural\n",
      "language processing tasks. Improved the efficiency of model training and data processing\n",
      "pipelines. Published several research papers in top-tier AI conferences.\n",
      "2018 – 2021 Data Scientist ,Uber , San Francisco, USA\n",
      "Developed and deployed machine learning models to improve the efficiency of ride allocation\n",
      "algorithms. Utilized TensorFlow and PyTorch for developing predictive models. Analyzed\n",
      "and visualized large data sets to drive business strategies.\n",
      "2016 – 2018 Junior Data Analyst ,Facebook , Menlo Park, USA\n",
      "Analyzed and visualized large datasets using Python and R. Assisted in the development of\n",
      "machine learning models for user behavior prediction. Conducted A/B testing and provided\n",
      "insights to the product team.\n",
      "Education\n",
      "2014 – 2016 Master of Science in Computer Science, Specialization in AI ,MIT, Cambridge,\n",
      "USA\n",
      "2010 – 2014 Bachelor of Science in Computer Science ,UC San Diego , San Diego, USA\n",
      "Projects\n",
      "2021 –\n",
      "PresentPersonal Project: Predictive Stock Trading Model\n",
      "Developed a predictive stock trading model using deep learning and time series analysis.\n",
      "Used PyTorch for model development and Docker for deployment. The model predicts stock\n",
      "prices with a high degree of accuracy and automates trading decisions.': [Errno 63] File name too long: 'Data/Resumes/Harvey Dent\\nMachine Learning Engineer321 Gotham St\\nGotham, USA\\n♂¶obile-alt(123) 456-7891\\n/envel⌢pehdent@email.com\\n/linkedin-inhdent\\n/githubhdent\\nProfessional Summary\\nMachine Learning Engineer with 5 years of experience in designing, building, and deploying predictive\\nmodels and deep learning systems. Proficient in Python, TensorFlow, PyTorch, and Scikit-learn.\\nCurrently leading a team of AI engineers at OpenAI.\\nSkills\\nPython, R, TensorFlow, PyTorch, Scikit-learn, Keras, SQL, NoSQL, Git, Docker,\\nKubernetes, Agile and Scrum, Statistics, Data visualization, Deep Learning, Natural\\nLanguage Processing\\nExperience\\n2021 –\\nPresentMachine Learning Engineer ,OpenAI , San Francisco, USA\\nLeading a team of AI engineers. Designed and implemented deep learning models for natural\\nlanguage processing tasks. Improved the efficiency of model training and data processing\\npipelines. Published several research papers in top-tier AI conferences.\\n2018 – 2021 Data Scientist ,Uber , San Francisco, USA\\nDeveloped and deployed machine learning models to improve the efficiency of ride allocation\\nalgorithms. Utilized TensorFlow and PyTorch for developing predictive models. Analyzed\\nand visualized large data sets to drive business strategies.\\n2016 – 2018 Junior Data Analyst ,Facebook , Menlo Park, USA\\nAnalyzed and visualized large datasets using Python and R. Assisted in the development of\\nmachine learning models for user behavior prediction. Conducted A/B testing and provided\\ninsights to the product team.\\nEducation\\n2014 – 2016 Master of Science in Computer Science, Specialization in AI ,MIT, Cambridge,\\nUSA\\n2010 – 2014 Bachelor of Science in Computer Science ,UC San Diego , San Diego, USA\\nProjects\\n2021 –\\nPresentPersonal Project: Predictive Stock Trading Model\\nDeveloped a predictive stock trading model using deep learning and time series analysis.\\nUsed PyTorch for model development and Docker for deployment. The model predicts stock\\nprices with a high degree of accuracy and automates trading decisions.'\n",
      "Error reading file 'Data/Resumes/Alfred Pennyworth\n",
      "Product ManagerSilicon Valley, CA, USA\n",
      "♂¶obile-alt(123) 456-7890\n",
      "/envel⌢pealfred.pennyworth@email.com\n",
      "/linkedin-inapennyworth\n",
      "/githubapennyworth\n",
      "Professional Summary\n",
      "Seasoned Product Manager with over 20 years of experience in software development and product\n",
      "management, having worked at all FAANG companies. Exceptional leadership skills, strategic\n",
      "thinking, and a track record of managing products from conception to market success.\n",
      "Skills\n",
      "Product management, Agile methodologies, Leadership, Communication, Project\n",
      "management, User Experience Design, Market Research, Data Analysis, Java,\n",
      "Python, JavaScript, HTML/CSS, SQL, AWS\n",
      "Experience\n",
      "2017 –\n",
      "PresentProduct Manager ,Google , Mountain View, CA, USA\n",
      "Leading cross-functional teams to design, develop, and launch innovative products. Devel-\n",
      "oping product strategies and making data-driven decisions to improve user experience and\n",
      "meet business goals.\n",
      "2012 – 2017 Software Development Engineer III ,Amazon , Seattle, WA, USA\n",
      "Led a team of developers in building scalable and high-performing e-commerce applications.\n",
      "Successfully delivered multiple projects within the stipulated time and budget.\n",
      "2007 – 2012 Software Development Engineer II ,Apple , Cupertino, CA, USA\n",
      "Designed and implemented software components for various Apple services. Optimized the\n",
      "performance of applications and improved code quality through thorough testing.\n",
      "2002 – 2007 Software Development Engineer I ,Netflix , Los Gatos, CA, USA\n",
      "Developed and maintained the user interface for the Netflix web application. Worked closely\n",
      "with product managers and designers to create an optimal user experience.\n",
      "1999 – 2002 Software Development Engineer I ,Facebook , Menlo Park, CA, USA\n",
      "Played a key role in the development of early Facebook features. Implemented scalable\n",
      "back-end services using Java and SQL.\n",
      "Education\n",
      "2016 – 2018 Master of Business Administration ,Stanford University , Stanford, CA, USA\n",
      "1997 – 1999 Master of Science in Computer Science ,Massachusetts Institute of Technology ,\n",
      "Cambridge, MA, USA\n",
      "1994 – 1997 Bachelor of Science in Computer Science ,University of California, Berkeley ,\n",
      "Berkeley, CA, USA\n",
      "Projects\n",
      "1/2 2020 –\n",
      "PresentPersonal Project: Home Automation System\n",
      "Developed a smart home automation system using Raspberry Pi and Python. The system\n",
      "automates various home appliances based on user behavior and preferences, contributing to\n",
      "energy saving and improved user convenience.\n",
      "2/2': [Errno 63] File name too long: 'Data/Resumes/Alfred Pennyworth\\nProduct ManagerSilicon Valley, CA, USA\\n♂¶obile-alt(123) 456-7890\\n/envel⌢pealfred.pennyworth@email.com\\n/linkedin-inapennyworth\\n/githubapennyworth\\nProfessional Summary\\nSeasoned Product Manager with over 20 years of experience in software development and product\\nmanagement, having worked at all FAANG companies. Exceptional leadership skills, strategic\\nthinking, and a track record of managing products from conception to market success.\\nSkills\\nProduct management, Agile methodologies, Leadership, Communication, Project\\nmanagement, User Experience Design, Market Research, Data Analysis, Java,\\nPython, JavaScript, HTML/CSS, SQL, AWS\\nExperience\\n2017 –\\nPresentProduct Manager ,Google , Mountain View, CA, USA\\nLeading cross-functional teams to design, develop, and launch innovative products. Devel-\\noping product strategies and making data-driven decisions to improve user experience and\\nmeet business goals.\\n2012 – 2017 Software Development Engineer III ,Amazon , Seattle, WA, USA\\nLed a team of developers in building scalable and high-performing e-commerce applications.\\nSuccessfully delivered multiple projects within the stipulated time and budget.\\n2007 – 2012 Software Development Engineer II ,Apple , Cupertino, CA, USA\\nDesigned and implemented software components for various Apple services. Optimized the\\nperformance of applications and improved code quality through thorough testing.\\n2002 – 2007 Software Development Engineer I ,Netflix , Los Gatos, CA, USA\\nDeveloped and maintained the user interface for the Netflix web application. Worked closely\\nwith product managers and designers to create an optimal user experience.\\n1999 – 2002 Software Development Engineer I ,Facebook , Menlo Park, CA, USA\\nPlayed a key role in the development of early Facebook features. Implemented scalable\\nback-end services using Java and SQL.\\nEducation\\n2016 – 2018 Master of Business Administration ,Stanford University , Stanford, CA, USA\\n1997 – 1999 Master of Science in Computer Science ,Massachusetts Institute of Technology ,\\nCambridge, MA, USA\\n1994 – 1997 Bachelor of Science in Computer Science ,University of California, Berkeley ,\\nBerkeley, CA, USA\\nProjects\\n1/2 2020 –\\nPresentPersonal Project: Home Automation System\\nDeveloped a smart home automation system using Raspberry Pi and Python. The system\\nautomates various home appliances based on user behavior and preferences, contributing to\\nenergy saving and improved user convenience.\\n2/2'\n"
     ]
    }
   ],
   "source": [
    "# Define paths\n",
    "# Read raw job description\n",
    "job_desc_text = ReadPdf.read_single_pdf(\"Data/JobDescription/\" + job_desc_file)\n",
    "\n",
    "# Process job description\n",
    "job_desc_processor = JobDescriptionProcessor(job_desc_file)\n",
    "job_desc_processed = job_desc_processor._read_job_desc()\n",
    "\n",
    "# Read and process resumes\n",
    "resumes_text = [ReadPdf.read_single_pdf(\"Data/Resumes/\" + resume_file) for resume_file in resume_files]\n",
    "resumes_processed = []\n",
    "for resume_text in resumes_text:\n",
    "    resume_processor = ResumeProcessor(resume_text)\n",
    "    resume_data = resume_processor._read_resumes()\n",
    "    resumes_processed.append(resume_data)\n",
    "\n",
    "\n"
   ]
  },
  {
   "cell_type": "code",
   "execution_count": 112,
   "metadata": {},
   "outputs": [],
   "source": [
    "def extract_candidate_name_from_filename(filename: str) -> str:\n",
    "    name_parts = filename.split('_')[:-1]  # Exclude the last part which is the position\n",
    "    return ' '.join(name_parts).title()"
   ]
  },
  {
   "cell_type": "code",
   "execution_count": 113,
   "metadata": {},
   "outputs": [],
   "source": [
    "\n",
    "# Initialize the KeytermExtractor for the job description\n",
    "job_desc_extractor = KeytermExtractor(job_desc_text)\n",
    "\n",
    "# Extract key terms using the TextRank algorithm (or any other method you prefer)\n",
    "job_desc_keywords = job_desc_extractor.get_keyterms_based_on_textrank()\n",
    "\n",
    "# Extract key terms for each resume\n",
    "resumes_keywords = []\n",
    "for resume_text in resumes_text:\n",
    "    resume_extractor = KeytermExtractor(resume_text)\n",
    "    resume_keywords = resume_extractor.get_keyterms_based_on_textrank()\n",
    "    resumes_keywords.append(resume_keywords)\n",
    "\n",
    "\n"
   ]
  },
  {
   "cell_type": "code",
   "execution_count": 114,
   "metadata": {},
   "outputs": [],
   "source": [
    "# # Initialize Cohere client\n",
    "cohere_api_key = \"SfyA1J6aBy0xiunhxzGFnATHTorhmx0Qemkshpls\"  # Replace with your API key\n",
    "co = cohere.Client(cohere_api_key)\n"
   ]
  },
  {
   "cell_type": "code",
   "execution_count": 115,
   "metadata": {},
   "outputs": [
    {
     "name": "stderr",
     "output_type": "stream",
     "text": [
      "2023-10-03 16:09:54,179 - scripts.similarity.get_similarity_score - INFO - Started getting similarity score\n"
     ]
    },
    {
     "name": "stdout",
     "output_type": "stream",
     "text": [
      "collection name=resume_collection_name\n"
     ]
    },
    {
     "name": "stderr",
     "output_type": "stream",
     "text": [
      "2023-10-03 16:09:56,132 - scripts.similarity.get_similarity_score - INFO - Finished getting similarity score\n",
      "2023-10-03 16:09:56,132 - scripts.similarity.get_similarity_score - INFO - Started getting similarity score\n"
     ]
    },
    {
     "name": "stdout",
     "output_type": "stream",
     "text": [
      "collection name=resume_collection_name\n"
     ]
    },
    {
     "name": "stderr",
     "output_type": "stream",
     "text": [
      "2023-10-03 16:09:57,323 - scripts.similarity.get_similarity_score - INFO - Finished getting similarity score\n",
      "2023-10-03 16:09:57,323 - scripts.similarity.get_similarity_score - INFO - Started getting similarity score\n"
     ]
    },
    {
     "name": "stdout",
     "output_type": "stream",
     "text": [
      "collection name=resume_collection_name\n"
     ]
    },
    {
     "name": "stderr",
     "output_type": "stream",
     "text": [
      "2023-10-03 16:09:58,983 - scripts.similarity.get_similarity_score - INFO - Finished getting similarity score\n",
      "2023-10-03 16:09:58,983 - scripts.similarity.get_similarity_score - INFO - Started getting similarity score\n"
     ]
    },
    {
     "name": "stdout",
     "output_type": "stream",
     "text": [
      "collection name=resume_collection_name\n"
     ]
    },
    {
     "name": "stderr",
     "output_type": "stream",
     "text": [
      "2023-10-03 16:10:00,380 - scripts.similarity.get_similarity_score - INFO - Finished getting similarity score\n",
      "2023-10-03 16:10:00,380 - scripts.similarity.get_similarity_score - INFO - Started getting similarity score\n"
     ]
    },
    {
     "name": "stdout",
     "output_type": "stream",
     "text": [
      "collection name=resume_collection_name\n"
     ]
    },
    {
     "name": "stderr",
     "output_type": "stream",
     "text": [
      "2023-10-03 16:10:01,055 - scripts.similarity.get_similarity_score - INFO - Finished getting similarity score\n"
     ]
    }
   ],
   "source": [
    "\n",
    "# Convert the extracted keywords into strings\n",
    "job_desc_keywords_str = ' '.join([keyword[0] for keyword in job_desc_keywords])\n",
    "resumes_keywords_str_list = [' '.join([keyword[0] for keyword in resume_keywords]) for resume_keywords in resumes_keywords]\n",
    "\n",
    "# Calculate similarities between the job description and each resume using Qdrant and Cohere\n",
    "similarities = []\n",
    "for resume_keywords_str in resumes_keywords_str_list:\n",
    "    similarity_result = get_similarity_score(resume_keywords_str, job_desc_keywords_str)\n",
    "    # Extract the similarity score from the result (assuming the score is what you need)\n",
    "    score = similarity_result[0]['score']  # Modify this line if the structure of similarity_result is different\n",
    "    similarities.append(score)\n"
   ]
  },
  {
   "cell_type": "code",
   "execution_count": 116,
   "metadata": {},
   "outputs": [],
   "source": [
    "job_desc_str = ' '.join([keyword[0] for keyword in job_desc_keywords])\n",
    "resumes_str_list = [' '.join([keyword[0] for keyword in resume_keywords]) for resume_keywords in resumes_keywords]"
   ]
  },
  {
   "cell_type": "code",
   "execution_count": 117,
   "metadata": {},
   "outputs": [],
   "source": [
    "similarity_threshold = 0.3  # Example threshold;\n",
    "filtered_resumes = [resumes_str_list[i] for i, score in enumerate(similarities) if score >= similarity_threshold]\n"
   ]
  },
  {
   "cell_type": "code",
   "execution_count": 118,
   "metadata": {},
   "outputs": [
    {
     "data": {
      "text/plain": [
       "['complete software development life cycle •Certified Angular developer agile development team Angular development web application Stack Java Developer party application level application application component Java SE quality software user experience Spring Boot MongoDB database software debugging team member •wrote unit test •Oracle Certified Professional work experience NoSQL database',\n",
       " 'skilled MERN Stack developer Facebook web application 2020Full Stack developer scalable web application complex web application Gotham Event Planner modern mern stack architecture MERN stack natural language processing task PresentMERN Stack Developer Gotham St Gotham city Google Maps api development environment machine learning algorithm UC San Diego data science team user experience restful api share event',\n",
       " 'personal expense tracker application seamless datum flow accessible web design end DeveloperGoogle HQ user interface modern web technology datum visualization datum storage user authentication end developer Personal Expense Tracker agile development process Firebase Auth UX designer restful api Developing intuitive New Delhi Agile Development challenging role spending pattern',\n",
       " 'predictive stock trading model deep learning model machine learning model Machine Learning Engineer321 Gotham St predictive model model development model training PresentMachine Learning Engineer Junior Data Analyst deep learning system tier AI conference large datum set language processing task datum processing UC San Diego AI engineer Data visualization Data Scientist Deep Learning user behavior prediction',\n",
       " 'optimal user experience Software Development Engineer III smart home automation system innovative product product strategy product manager Seasoned Product Manager user interface Netflix web application user convenience user behavior Product ManagerSilicon Valley Home Automation System exceptional leadership skill Product management early Facebook feature User Experience Design software development home appliance Apple service']"
      ]
     },
     "execution_count": 118,
     "metadata": {},
     "output_type": "execute_result"
    }
   ],
   "source": [
    "filtered_resumes"
   ]
  },
  {
   "cell_type": "code",
   "execution_count": 119,
   "metadata": {},
   "outputs": [],
   "source": [
    "rerank_results = co.rerank(query=job_desc_str, documents=filtered_resumes, top_n=len(filtered_resumes), model='rerank-english-v2.0')\n",
    "ranked_indices = [result.index for result in rerank_results.results]\n",
    "ranked_resumes = [filtered_resumes[i] for i in ranked_indices]"
   ]
  },
  {
   "cell_type": "code",
   "execution_count": 120,
   "metadata": {},
   "outputs": [
    {
     "name": "stdout",
     "output_type": "stream",
     "text": [
      "Rank 1: Alfred Pennyworth\n",
      "Rank 2: John\n",
      "Rank 3: Barry Allen\n",
      "Rank 4: Harvey Dent\n",
      "Rank 5: Bruce Wayne\n"
     ]
    }
   ],
   "source": [
    "# Extract candidate names from the provided filenames\n",
    "candidate_names = [extract_candidate_name_from_filename(resume_file) for resume_file in resume_files]\n",
    "\n",
    "# Map the ranked indices to the candidate names\n",
    "ranked_candidate_names = [candidate_names[i] for i in ranked_indices]\n",
    "\n",
    "# Display the ranked candidate names\n",
    "for idx, candidate_name in enumerate(ranked_candidate_names):\n",
    "    print(f\"Rank {idx + 1}: {candidate_name}\")"
   ]
  }
 ],
 "metadata": {
  "kernelspec": {
   "display_name": "venv",
   "language": "python",
   "name": "python3"
  },
  "language_info": {
   "codemirror_mode": {
    "name": "ipython",
    "version": 3
   },
   "file_extension": ".py",
   "mimetype": "text/x-python",
   "name": "python",
   "nbconvert_exporter": "python",
   "pygments_lexer": "ipython3",
   "version": "3.11.5"
  },
  "orig_nbformat": 4
 },
 "nbformat": 4,
 "nbformat_minor": 2
}
